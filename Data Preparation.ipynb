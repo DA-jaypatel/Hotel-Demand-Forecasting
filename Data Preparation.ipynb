{
 "cells": [
  {
   "cell_type": "code",
   "execution_count": 1,
   "metadata": {},
   "outputs": [],
   "source": [
    "import pandas as pd"
   ]
  },
  {
   "cell_type": "code",
   "execution_count": 2,
   "metadata": {},
   "outputs": [],
   "source": [
    "data = pd.read_excel(\"E:\\COVID19_time_series.xlsx\")\n",
    "data1 = pd.read_excel(\"E:\\COVID19_cases (1).xlsx\")"
   ]
  },
  {
   "cell_type": "code",
   "execution_count": 3,
   "metadata": {},
   "outputs": [
    {
     "data": {
      "text/html": [
       "<div>\n",
       "<style scoped>\n",
       "    .dataframe tbody tr th:only-of-type {\n",
       "        vertical-align: middle;\n",
       "    }\n",
       "\n",
       "    .dataframe tbody tr th {\n",
       "        vertical-align: top;\n",
       "    }\n",
       "\n",
       "    .dataframe thead th {\n",
       "        text-align: right;\n",
       "    }\n",
       "</style>\n",
       "<table border=\"1\" class=\"dataframe\">\n",
       "  <thead>\n",
       "    <tr style=\"text-align: right;\">\n",
       "      <th></th>\n",
       "      <th>Date</th>\n",
       "      <th>Location</th>\n",
       "      <th>Revenue</th>\n",
       "      <th>Demand</th>\n",
       "      <th>Occupancy</th>\n",
       "      <th>Year</th>\n",
       "      <th>Month</th>\n",
       "      <th>Day</th>\n",
       "    </tr>\n",
       "  </thead>\n",
       "  <tbody>\n",
       "    <tr>\n",
       "      <th>0</th>\n",
       "      <td>2013-01-01</td>\n",
       "      <td>NewYork</td>\n",
       "      <td>2.442363e+06</td>\n",
       "      <td>13063.675000</td>\n",
       "      <td>81.991307</td>\n",
       "      <td>2013</td>\n",
       "      <td>1</td>\n",
       "      <td>1</td>\n",
       "    </tr>\n",
       "    <tr>\n",
       "      <th>1</th>\n",
       "      <td>2013-01-02</td>\n",
       "      <td>NewYork</td>\n",
       "      <td>2.018559e+06</td>\n",
       "      <td>13069.608539</td>\n",
       "      <td>82.028548</td>\n",
       "      <td>2013</td>\n",
       "      <td>1</td>\n",
       "      <td>2</td>\n",
       "    </tr>\n",
       "    <tr>\n",
       "      <th>2</th>\n",
       "      <td>2013-01-03</td>\n",
       "      <td>NewYork</td>\n",
       "      <td>1.927676e+06</td>\n",
       "      <td>13069.608539</td>\n",
       "      <td>82.028548</td>\n",
       "      <td>2013</td>\n",
       "      <td>1</td>\n",
       "      <td>3</td>\n",
       "    </tr>\n",
       "    <tr>\n",
       "      <th>3</th>\n",
       "      <td>2013-01-04</td>\n",
       "      <td>NewYork</td>\n",
       "      <td>1.781664e+06</td>\n",
       "      <td>12653.271887</td>\n",
       "      <td>79.415502</td>\n",
       "      <td>2013</td>\n",
       "      <td>1</td>\n",
       "      <td>4</td>\n",
       "    </tr>\n",
       "    <tr>\n",
       "      <th>4</th>\n",
       "      <td>2013-01-05</td>\n",
       "      <td>NewYork</td>\n",
       "      <td>1.824994e+06</td>\n",
       "      <td>12827.322364</td>\n",
       "      <td>80.507892</td>\n",
       "      <td>2013</td>\n",
       "      <td>1</td>\n",
       "      <td>5</td>\n",
       "    </tr>\n",
       "  </tbody>\n",
       "</table>\n",
       "</div>"
      ],
      "text/plain": [
       "        Date Location       Revenue        Demand  Occupancy  Year  Month  Day\n",
       "0 2013-01-01  NewYork  2.442363e+06  13063.675000  81.991307  2013      1    1\n",
       "1 2013-01-02  NewYork  2.018559e+06  13069.608539  82.028548  2013      1    2\n",
       "2 2013-01-03  NewYork  1.927676e+06  13069.608539  82.028548  2013      1    3\n",
       "3 2013-01-04  NewYork  1.781664e+06  12653.271887  79.415502  2013      1    4\n",
       "4 2013-01-05  NewYork  1.824994e+06  12827.322364  80.507892  2013      1    5"
      ]
     },
     "execution_count": 3,
     "metadata": {},
     "output_type": "execute_result"
    }
   ],
   "source": [
    "data.head()"
   ]
  },
  {
   "cell_type": "code",
   "execution_count": 5,
   "metadata": {},
   "outputs": [
    {
     "data": {
      "text/plain": [
       "(23254, 8)"
      ]
     },
     "execution_count": 5,
     "metadata": {},
     "output_type": "execute_result"
    }
   ],
   "source": [
    "data.shape"
   ]
  },
  {
   "cell_type": "code",
   "execution_count": 6,
   "metadata": {},
   "outputs": [
    {
     "name": "stdout",
     "output_type": "stream",
     "text": [
      "<class 'pandas.core.frame.DataFrame'>\n",
      "RangeIndex: 23254 entries, 0 to 23253\n",
      "Data columns (total 8 columns):\n",
      " #   Column     Non-Null Count  Dtype         \n",
      "---  ------     --------------  -----         \n",
      " 0   Date       23254 non-null  datetime64[ns]\n",
      " 1   Location   23254 non-null  object        \n",
      " 2   Revenue    23254 non-null  float64       \n",
      " 3   Demand     23254 non-null  float64       \n",
      " 4   Occupancy  23254 non-null  float64       \n",
      " 5   Year       23254 non-null  int64         \n",
      " 6   Month      23254 non-null  int64         \n",
      " 7   Day        23254 non-null  int64         \n",
      "dtypes: datetime64[ns](1), float64(3), int64(3), object(1)\n",
      "memory usage: 1.4+ MB\n"
     ]
    }
   ],
   "source": [
    "data.info()"
   ]
  },
  {
   "cell_type": "code",
   "execution_count": 7,
   "metadata": {},
   "outputs": [
    {
     "data": {
      "text/html": [
       "<div>\n",
       "<style scoped>\n",
       "    .dataframe tbody tr th:only-of-type {\n",
       "        vertical-align: middle;\n",
       "    }\n",
       "\n",
       "    .dataframe tbody tr th {\n",
       "        vertical-align: top;\n",
       "    }\n",
       "\n",
       "    .dataframe thead th {\n",
       "        text-align: right;\n",
       "    }\n",
       "</style>\n",
       "<table border=\"1\" class=\"dataframe\">\n",
       "  <thead>\n",
       "    <tr style=\"text-align: right;\">\n",
       "      <th></th>\n",
       "      <th>date</th>\n",
       "      <th>state</th>\n",
       "      <th>fips</th>\n",
       "      <th>cases</th>\n",
       "      <th>deaths</th>\n",
       "      <th>fully_vaccinated</th>\n",
       "      <th>partially_vaccinated</th>\n",
       "      <th>dailynewcases</th>\n",
       "      <th>dailynewdeaths</th>\n",
       "      <th>lndailynewcases</th>\n",
       "      <th>lndailynewdeaths</th>\n",
       "      <th>new_full_vaccination</th>\n",
       "      <th>ln_new_full_vaccination</th>\n",
       "    </tr>\n",
       "  </thead>\n",
       "  <tbody>\n",
       "    <tr>\n",
       "      <th>0</th>\n",
       "      <td>2020-03-13</td>\n",
       "      <td>AL</td>\n",
       "      <td>1</td>\n",
       "      <td>6</td>\n",
       "      <td>0</td>\n",
       "      <td>0</td>\n",
       "      <td>0</td>\n",
       "      <td>0</td>\n",
       "      <td>0</td>\n",
       "      <td>0.000000</td>\n",
       "      <td>0.0</td>\n",
       "      <td>0</td>\n",
       "      <td>0.0</td>\n",
       "    </tr>\n",
       "    <tr>\n",
       "      <th>1</th>\n",
       "      <td>2020-03-14</td>\n",
       "      <td>AL</td>\n",
       "      <td>1</td>\n",
       "      <td>12</td>\n",
       "      <td>0</td>\n",
       "      <td>0</td>\n",
       "      <td>0</td>\n",
       "      <td>6</td>\n",
       "      <td>0</td>\n",
       "      <td>1.791759</td>\n",
       "      <td>0.0</td>\n",
       "      <td>0</td>\n",
       "      <td>0.0</td>\n",
       "    </tr>\n",
       "    <tr>\n",
       "      <th>2</th>\n",
       "      <td>2020-03-15</td>\n",
       "      <td>AL</td>\n",
       "      <td>1</td>\n",
       "      <td>23</td>\n",
       "      <td>0</td>\n",
       "      <td>0</td>\n",
       "      <td>0</td>\n",
       "      <td>11</td>\n",
       "      <td>0</td>\n",
       "      <td>2.397895</td>\n",
       "      <td>0.0</td>\n",
       "      <td>0</td>\n",
       "      <td>0.0</td>\n",
       "    </tr>\n",
       "    <tr>\n",
       "      <th>3</th>\n",
       "      <td>2020-03-16</td>\n",
       "      <td>AL</td>\n",
       "      <td>1</td>\n",
       "      <td>29</td>\n",
       "      <td>0</td>\n",
       "      <td>0</td>\n",
       "      <td>0</td>\n",
       "      <td>6</td>\n",
       "      <td>0</td>\n",
       "      <td>1.791759</td>\n",
       "      <td>0.0</td>\n",
       "      <td>0</td>\n",
       "      <td>0.0</td>\n",
       "    </tr>\n",
       "    <tr>\n",
       "      <th>4</th>\n",
       "      <td>2020-03-17</td>\n",
       "      <td>AL</td>\n",
       "      <td>1</td>\n",
       "      <td>39</td>\n",
       "      <td>0</td>\n",
       "      <td>0</td>\n",
       "      <td>0</td>\n",
       "      <td>10</td>\n",
       "      <td>0</td>\n",
       "      <td>2.302585</td>\n",
       "      <td>0.0</td>\n",
       "      <td>0</td>\n",
       "      <td>0.0</td>\n",
       "    </tr>\n",
       "  </tbody>\n",
       "</table>\n",
       "</div>"
      ],
      "text/plain": [
       "        date state  fips  cases  deaths  fully_vaccinated  \\\n",
       "0 2020-03-13    AL     1      6       0                 0   \n",
       "1 2020-03-14    AL     1     12       0                 0   \n",
       "2 2020-03-15    AL     1     23       0                 0   \n",
       "3 2020-03-16    AL     1     29       0                 0   \n",
       "4 2020-03-17    AL     1     39       0                 0   \n",
       "\n",
       "   partially_vaccinated  dailynewcases  dailynewdeaths  lndailynewcases  \\\n",
       "0                     0              0               0         0.000000   \n",
       "1                     0              6               0         1.791759   \n",
       "2                     0             11               0         2.397895   \n",
       "3                     0              6               0         1.791759   \n",
       "4                     0             10               0         2.302585   \n",
       "\n",
       "   lndailynewdeaths  new_full_vaccination  ln_new_full_vaccination  \n",
       "0               0.0                     0                      0.0  \n",
       "1               0.0                     0                      0.0  \n",
       "2               0.0                     0                      0.0  \n",
       "3               0.0                     0                      0.0  \n",
       "4               0.0                     0                      0.0  "
      ]
     },
     "execution_count": 7,
     "metadata": {},
     "output_type": "execute_result"
    }
   ],
   "source": [
    "data1.head()"
   ]
  },
  {
   "cell_type": "code",
   "execution_count": 8,
   "metadata": {},
   "outputs": [
    {
     "data": {
      "text/plain": [
       "(30264, 13)"
      ]
     },
     "execution_count": 8,
     "metadata": {},
     "output_type": "execute_result"
    }
   ],
   "source": [
    "data1.shape"
   ]
  },
  {
   "cell_type": "code",
   "execution_count": 9,
   "metadata": {},
   "outputs": [
    {
     "name": "stdout",
     "output_type": "stream",
     "text": [
      "<class 'pandas.core.frame.DataFrame'>\n",
      "RangeIndex: 30264 entries, 0 to 30263\n",
      "Data columns (total 13 columns):\n",
      " #   Column                   Non-Null Count  Dtype         \n",
      "---  ------                   --------------  -----         \n",
      " 0   date                     30264 non-null  datetime64[ns]\n",
      " 1   state                    30264 non-null  object        \n",
      " 2   fips                     30264 non-null  int64         \n",
      " 3   cases                    30264 non-null  int64         \n",
      " 4   deaths                   30264 non-null  int64         \n",
      " 5   fully_vaccinated         30264 non-null  int64         \n",
      " 6   partially_vaccinated     30264 non-null  int64         \n",
      " 7   dailynewcases            30264 non-null  int64         \n",
      " 8   dailynewdeaths           30264 non-null  int64         \n",
      " 9   lndailynewcases          30264 non-null  float64       \n",
      " 10  lndailynewdeaths         30264 non-null  float64       \n",
      " 11  new_full_vaccination     30264 non-null  int64         \n",
      " 12  ln_new_full_vaccination  30264 non-null  float64       \n",
      "dtypes: datetime64[ns](1), float64(3), int64(8), object(1)\n",
      "memory usage: 3.0+ MB\n"
     ]
    }
   ],
   "source": [
    "data1.info()"
   ]
  },
  {
   "cell_type": "code",
   "execution_count": 102,
   "metadata": {},
   "outputs": [],
   "source": [
    "filter = (data.Location == 'NewYork') | (data.Location == 'Orlando') | (data.Location == 'Chicago') | (data.Location == 'LosAngeles') | (data.Location == 'Washington')\n",
    "data = data[filter]"
   ]
  },
  {
   "cell_type": "code",
   "execution_count": 103,
   "metadata": {},
   "outputs": [],
   "source": [
    "data=data.replace({'NewYork':'NY','Orlando':'OR','Chicago':'CO','LosAngeles':'LA','Washington':'WA'})\n",
    "data.columns = ['date','state','revenue','demand','occupancy','year','month','day']"
   ]
  },
  {
   "cell_type": "code",
   "execution_count": 104,
   "metadata": {},
   "outputs": [],
   "source": [
    "filter = (data1.state == 'NY') | (data1.state == 'OR') | (data1.state == 'CO') | (data1.state == 'LA') | (data1.state == 'WA')\n",
    "data1 = data1[filter]"
   ]
  },
  {
   "cell_type": "code",
   "execution_count": 107,
   "metadata": {},
   "outputs": [
    {
     "data": {
      "text/html": [
       "<div>\n",
       "<style scoped>\n",
       "    .dataframe tbody tr th:only-of-type {\n",
       "        vertical-align: middle;\n",
       "    }\n",
       "\n",
       "    .dataframe tbody tr th {\n",
       "        vertical-align: top;\n",
       "    }\n",
       "\n",
       "    .dataframe thead th {\n",
       "        text-align: right;\n",
       "    }\n",
       "</style>\n",
       "<table border=\"1\" class=\"dataframe\">\n",
       "  <thead>\n",
       "    <tr style=\"text-align: right;\">\n",
       "      <th></th>\n",
       "      <th>date</th>\n",
       "      <th>state</th>\n",
       "      <th>revenue</th>\n",
       "      <th>demand</th>\n",
       "      <th>occupancy</th>\n",
       "      <th>year</th>\n",
       "      <th>month</th>\n",
       "      <th>day</th>\n",
       "      <th>fips</th>\n",
       "      <th>cases</th>\n",
       "      <th>deaths</th>\n",
       "      <th>dailynewcases</th>\n",
       "      <th>dailynewdeaths</th>\n",
       "    </tr>\n",
       "  </thead>\n",
       "  <tbody>\n",
       "    <tr>\n",
       "      <th>0</th>\n",
       "      <td>2013-01-01</td>\n",
       "      <td>NY</td>\n",
       "      <td>2.442363e+06</td>\n",
       "      <td>13063.675000</td>\n",
       "      <td>81.991307</td>\n",
       "      <td>2013</td>\n",
       "      <td>1</td>\n",
       "      <td>1</td>\n",
       "      <td>0.0</td>\n",
       "      <td>0.0</td>\n",
       "      <td>0.0</td>\n",
       "      <td>0.0</td>\n",
       "      <td>0.0</td>\n",
       "    </tr>\n",
       "    <tr>\n",
       "      <th>1</th>\n",
       "      <td>2013-01-02</td>\n",
       "      <td>NY</td>\n",
       "      <td>2.018559e+06</td>\n",
       "      <td>13069.608539</td>\n",
       "      <td>82.028548</td>\n",
       "      <td>2013</td>\n",
       "      <td>1</td>\n",
       "      <td>2</td>\n",
       "      <td>0.0</td>\n",
       "      <td>0.0</td>\n",
       "      <td>0.0</td>\n",
       "      <td>0.0</td>\n",
       "      <td>0.0</td>\n",
       "    </tr>\n",
       "    <tr>\n",
       "      <th>2</th>\n",
       "      <td>2013-01-03</td>\n",
       "      <td>NY</td>\n",
       "      <td>1.927676e+06</td>\n",
       "      <td>13069.608539</td>\n",
       "      <td>82.028548</td>\n",
       "      <td>2013</td>\n",
       "      <td>1</td>\n",
       "      <td>3</td>\n",
       "      <td>0.0</td>\n",
       "      <td>0.0</td>\n",
       "      <td>0.0</td>\n",
       "      <td>0.0</td>\n",
       "      <td>0.0</td>\n",
       "    </tr>\n",
       "    <tr>\n",
       "      <th>3</th>\n",
       "      <td>2013-01-04</td>\n",
       "      <td>NY</td>\n",
       "      <td>1.781664e+06</td>\n",
       "      <td>12653.271887</td>\n",
       "      <td>79.415502</td>\n",
       "      <td>2013</td>\n",
       "      <td>1</td>\n",
       "      <td>4</td>\n",
       "      <td>0.0</td>\n",
       "      <td>0.0</td>\n",
       "      <td>0.0</td>\n",
       "      <td>0.0</td>\n",
       "      <td>0.0</td>\n",
       "    </tr>\n",
       "    <tr>\n",
       "      <th>4</th>\n",
       "      <td>2013-01-05</td>\n",
       "      <td>NY</td>\n",
       "      <td>1.824994e+06</td>\n",
       "      <td>12827.322364</td>\n",
       "      <td>80.507892</td>\n",
       "      <td>2013</td>\n",
       "      <td>1</td>\n",
       "      <td>5</td>\n",
       "      <td>0.0</td>\n",
       "      <td>0.0</td>\n",
       "      <td>0.0</td>\n",
       "      <td>0.0</td>\n",
       "      <td>0.0</td>\n",
       "    </tr>\n",
       "  </tbody>\n",
       "</table>\n",
       "</div>"
      ],
      "text/plain": [
       "        date state       revenue        demand  occupancy  year  month  day  \\\n",
       "0 2013-01-01    NY  2.442363e+06  13063.675000  81.991307  2013      1    1   \n",
       "1 2013-01-02    NY  2.018559e+06  13069.608539  82.028548  2013      1    2   \n",
       "2 2013-01-03    NY  1.927676e+06  13069.608539  82.028548  2013      1    3   \n",
       "3 2013-01-04    NY  1.781664e+06  12653.271887  79.415502  2013      1    4   \n",
       "4 2013-01-05    NY  1.824994e+06  12827.322364  80.507892  2013      1    5   \n",
       "\n",
       "   fips  cases  deaths  dailynewcases  dailynewdeaths  \n",
       "0   0.0    0.0     0.0            0.0             0.0  \n",
       "1   0.0    0.0     0.0            0.0             0.0  \n",
       "2   0.0    0.0     0.0            0.0             0.0  \n",
       "3   0.0    0.0     0.0            0.0             0.0  \n",
       "4   0.0    0.0     0.0            0.0             0.0  "
      ]
     },
     "execution_count": 107,
     "metadata": {},
     "output_type": "execute_result"
    }
   ],
   "source": [
    "final_data = pd.merge(data,data1,on=['date','state'],how='left')\n",
    "final_data=final_data.drop(labels=['lndailynewcases','lndailynewdeaths','new_full_vaccination','ln_new_full_vaccination','fully_vaccinated','partially_vaccinated'],axis=1).fillna(0)\n",
    "final_data.fillna(0).head()"
   ]
  },
  {
   "cell_type": "code",
   "execution_count": 1,
   "metadata": {},
   "outputs": [
    {
     "ename": "NameError",
     "evalue": "name 'final_data' is not defined",
     "output_type": "error",
     "traceback": [
      "\u001b[1;31m---------------------------------------------------------------------------\u001b[0m",
      "\u001b[1;31mNameError\u001b[0m                                 Traceback (most recent call last)",
      "\u001b[1;32m<ipython-input-1-5062dd6bb1e9>\u001b[0m in \u001b[0;36m<module>\u001b[1;34m\u001b[0m\n\u001b[1;32m----> 1\u001b[1;33m \u001b[0mfinal_data\u001b[0m\u001b[1;33m.\u001b[0m\u001b[0mto_excel\u001b[0m\u001b[1;33m(\u001b[0m\u001b[1;34m'Datasets/Final Data.xlsx'\u001b[0m\u001b[1;33m)\u001b[0m\u001b[1;33m\u001b[0m\u001b[1;33m\u001b[0m\u001b[0m\n\u001b[0m",
      "\u001b[1;31mNameError\u001b[0m: name 'final_data' is not defined"
     ]
    }
   ],
   "source": [
    "final_data.to_excel('Datasets/Final Data.xlsx')"
   ]
  },
  {
   "cell_type": "code",
   "execution_count": null,
   "metadata": {},
   "outputs": [],
   "source": []
  }
 ],
 "metadata": {
  "kernelspec": {
   "display_name": "Python 3",
   "language": "python",
   "name": "python3"
  },
  "language_info": {
   "codemirror_mode": {
    "name": "ipython",
    "version": 3
   },
   "file_extension": ".py",
   "mimetype": "text/x-python",
   "name": "python",
   "nbconvert_exporter": "python",
   "pygments_lexer": "ipython3",
   "version": "3.8.5"
  }
 },
 "nbformat": 4,
 "nbformat_minor": 4
}
